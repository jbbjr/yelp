{
 "cells": [
  {
   "cell_type": "code",
   "execution_count": null,
   "id": "initial_id",
   "metadata": {
    "collapsed": true
   },
   "outputs": [],
   "source": [
    "import pandas as pd\n",
    "\n",
    "test_sample = pd.read_csv('under-sample.csv')"
   ]
  },
  {
   "cell_type": "code",
   "execution_count": 4,
   "outputs": [
    {
     "data": {
      "text/plain": "   Unnamed: 0             business_id                 user_id  \\\n0           0  4AxmAGObMPTDqbJK3EgNgQ  WDX_KkxwI8VYOF3RHpNLpA   \n1           1  II7CpZjGyx8aFTu3wJbQNw  pgh8UtO2K13GVMv4Ih-jEw   \n2           2  ul0MGusQZBGo4CqiVh6VcA  vgiUst2zH7Zzs2FdISwQdQ   \n3           3  4vvu78FMlZyQwZf0bBUkLQ  ZzFwLI4AC9MyCBwY-kulEA   \n4           4  mRtGKvoxQLSh-tf2qBBoLg  6903ibtDSpwMDvD9Yp33wg   \n\n                                                text  cool  stars  \\\n0  I discovered my new favorite food truck in the...     1    5.0   \n1  Sean Byrd was our guide on the City Tour. He w...     0    5.0   \n2  Super fun parade on the Sunday afternoon befor...     1    5.0   \n3  Horrible. I had read boisterous articles compa...     0    1.0   \n4  I ordered an Arnold Palmer over the sweltering...     0    2.0   \n\n                        date  funny               review_id  useful  ...  \\\n0  2016-01-21 06:21:55+00:00      0  fVBt5kq8lyVSK2RcpY9XQA       2  ...   \n1  2021-01-24 21:04:52+00:00      0  3Sjk89h1OLVdEm9fqoggnQ       1  ...   \n2  2016-02-13 17:40:22+00:00      1  E5-7WlkTKnnC0XlsALwRfg       1  ...   \n3  2019-05-26 18:45:25+00:00      1  JYGPNWLy8uxnxzjdNPWBQw       0  ...   \n4  2013-09-05 23:17:55+00:00      0  EA0FGcHTsgBcGpa_e1g7GA       0  ...   \n\n              address          city  state latitude   longitude  \\\n0                 NaN          Reno     NV      NaN -119.813803   \n1                 NaN   New Orleans     LA      NaN  -90.077750   \n2       St Charles Ae   New Orleans     LA      NaN  -90.080723   \n3     Pennsylvania St  Indianapolis     IN      NaN  -86.155944   \n4  18th St & Logan Sq  Philadelphia     PA      NaN  -75.168697   \n\n  average_business_stars recieved_reviews  \\\n0                    4.5             11.0   \n1                    5.0              6.0   \n2                    4.5              9.0   \n3                    3.5             11.0   \n4                    3.5             34.0   \n\n                                      categories  \\\n0         Food, German, Food Trucks, Restaurants   \n1              Hotels & Travel, Bus Tours, Tours   \n2                                   Local Flavor   \n3  Arts & Entertainment, Festivals, Local Flavor   \n4                   Food, Bakeries, Coffee & Tea   \n\n                                          attributes  tip_review  \n0  {'BusinessAcceptsCreditCards': 'True', 'Alcoho...         NaN  \n1                                                NaN         NaN  \n2                            {'GoodForKids': 'True'}         NaN  \n3                            {'GoodForKids': 'True'}         NaN  \n4  {'RestaurantsPriceRange2': '2', 'BusinessParki...         NaN  \n\n[5 rows x 24 columns]",
      "text/html": "<div>\n<style scoped>\n    .dataframe tbody tr th:only-of-type {\n        vertical-align: middle;\n    }\n\n    .dataframe tbody tr th {\n        vertical-align: top;\n    }\n\n    .dataframe thead th {\n        text-align: right;\n    }\n</style>\n<table border=\"1\" class=\"dataframe\">\n  <thead>\n    <tr style=\"text-align: right;\">\n      <th></th>\n      <th>Unnamed: 0</th>\n      <th>business_id</th>\n      <th>user_id</th>\n      <th>text</th>\n      <th>cool</th>\n      <th>stars</th>\n      <th>date</th>\n      <th>funny</th>\n      <th>review_id</th>\n      <th>useful</th>\n      <th>...</th>\n      <th>address</th>\n      <th>city</th>\n      <th>state</th>\n      <th>latitude</th>\n      <th>longitude</th>\n      <th>average_business_stars</th>\n      <th>recieved_reviews</th>\n      <th>categories</th>\n      <th>attributes</th>\n      <th>tip_review</th>\n    </tr>\n  </thead>\n  <tbody>\n    <tr>\n      <th>0</th>\n      <td>0</td>\n      <td>4AxmAGObMPTDqbJK3EgNgQ</td>\n      <td>WDX_KkxwI8VYOF3RHpNLpA</td>\n      <td>I discovered my new favorite food truck in the...</td>\n      <td>1</td>\n      <td>5.0</td>\n      <td>2016-01-21 06:21:55+00:00</td>\n      <td>0</td>\n      <td>fVBt5kq8lyVSK2RcpY9XQA</td>\n      <td>2</td>\n      <td>...</td>\n      <td>NaN</td>\n      <td>Reno</td>\n      <td>NV</td>\n      <td>NaN</td>\n      <td>-119.813803</td>\n      <td>4.5</td>\n      <td>11.0</td>\n      <td>Food, German, Food Trucks, Restaurants</td>\n      <td>{'BusinessAcceptsCreditCards': 'True', 'Alcoho...</td>\n      <td>NaN</td>\n    </tr>\n    <tr>\n      <th>1</th>\n      <td>1</td>\n      <td>II7CpZjGyx8aFTu3wJbQNw</td>\n      <td>pgh8UtO2K13GVMv4Ih-jEw</td>\n      <td>Sean Byrd was our guide on the City Tour. He w...</td>\n      <td>0</td>\n      <td>5.0</td>\n      <td>2021-01-24 21:04:52+00:00</td>\n      <td>0</td>\n      <td>3Sjk89h1OLVdEm9fqoggnQ</td>\n      <td>1</td>\n      <td>...</td>\n      <td>NaN</td>\n      <td>New Orleans</td>\n      <td>LA</td>\n      <td>NaN</td>\n      <td>-90.077750</td>\n      <td>5.0</td>\n      <td>6.0</td>\n      <td>Hotels &amp; Travel, Bus Tours, Tours</td>\n      <td>NaN</td>\n      <td>NaN</td>\n    </tr>\n    <tr>\n      <th>2</th>\n      <td>2</td>\n      <td>ul0MGusQZBGo4CqiVh6VcA</td>\n      <td>vgiUst2zH7Zzs2FdISwQdQ</td>\n      <td>Super fun parade on the Sunday afternoon befor...</td>\n      <td>1</td>\n      <td>5.0</td>\n      <td>2016-02-13 17:40:22+00:00</td>\n      <td>1</td>\n      <td>E5-7WlkTKnnC0XlsALwRfg</td>\n      <td>1</td>\n      <td>...</td>\n      <td>St Charles Ae</td>\n      <td>New Orleans</td>\n      <td>LA</td>\n      <td>NaN</td>\n      <td>-90.080723</td>\n      <td>4.5</td>\n      <td>9.0</td>\n      <td>Local Flavor</td>\n      <td>{'GoodForKids': 'True'}</td>\n      <td>NaN</td>\n    </tr>\n    <tr>\n      <th>3</th>\n      <td>3</td>\n      <td>4vvu78FMlZyQwZf0bBUkLQ</td>\n      <td>ZzFwLI4AC9MyCBwY-kulEA</td>\n      <td>Horrible. I had read boisterous articles compa...</td>\n      <td>0</td>\n      <td>1.0</td>\n      <td>2019-05-26 18:45:25+00:00</td>\n      <td>1</td>\n      <td>JYGPNWLy8uxnxzjdNPWBQw</td>\n      <td>0</td>\n      <td>...</td>\n      <td>Pennsylvania St</td>\n      <td>Indianapolis</td>\n      <td>IN</td>\n      <td>NaN</td>\n      <td>-86.155944</td>\n      <td>3.5</td>\n      <td>11.0</td>\n      <td>Arts &amp; Entertainment, Festivals, Local Flavor</td>\n      <td>{'GoodForKids': 'True'}</td>\n      <td>NaN</td>\n    </tr>\n    <tr>\n      <th>4</th>\n      <td>4</td>\n      <td>mRtGKvoxQLSh-tf2qBBoLg</td>\n      <td>6903ibtDSpwMDvD9Yp33wg</td>\n      <td>I ordered an Arnold Palmer over the sweltering...</td>\n      <td>0</td>\n      <td>2.0</td>\n      <td>2013-09-05 23:17:55+00:00</td>\n      <td>0</td>\n      <td>EA0FGcHTsgBcGpa_e1g7GA</td>\n      <td>0</td>\n      <td>...</td>\n      <td>18th St &amp; Logan Sq</td>\n      <td>Philadelphia</td>\n      <td>PA</td>\n      <td>NaN</td>\n      <td>-75.168697</td>\n      <td>3.5</td>\n      <td>34.0</td>\n      <td>Food, Bakeries, Coffee &amp; Tea</td>\n      <td>{'RestaurantsPriceRange2': '2', 'BusinessParki...</td>\n      <td>NaN</td>\n    </tr>\n  </tbody>\n</table>\n<p>5 rows × 24 columns</p>\n</div>"
     },
     "execution_count": 4,
     "metadata": {},
     "output_type": "execute_result"
    }
   ],
   "source": [
    "test_sample.head()"
   ],
   "metadata": {
    "collapsed": false,
    "ExecuteTime": {
     "end_time": "2024-02-24T00:46:54.211964Z",
     "start_time": "2024-02-24T00:46:54.204840Z"
    }
   },
   "id": "15c69631485bf936"
  },
  {
   "cell_type": "code",
   "execution_count": 3,
   "outputs": [
    {
     "name": "stdout",
     "output_type": "stream",
     "text": [
      "<class 'pandas.core.frame.DataFrame'>\n",
      "RangeIndex: 327980 entries, 0 to 327979\n",
      "Data columns (total 24 columns):\n",
      " #   Column                  Non-Null Count   Dtype  \n",
      "---  ------                  --------------   -----  \n",
      " 0   Unnamed: 0              327980 non-null  int64  \n",
      " 1   business_id             327980 non-null  object \n",
      " 2   user_id                 327980 non-null  object \n",
      " 3   text                    327980 non-null  object \n",
      " 4   cool                    327980 non-null  int64  \n",
      " 5   stars                   327980 non-null  float64\n",
      " 6   date                    327980 non-null  object \n",
      " 7   funny                   327980 non-null  int64  \n",
      " 8   review_id               327980 non-null  object \n",
      " 9   useful                  327980 non-null  int64  \n",
      " 10  average_user_stars      327979 non-null  float64\n",
      " 11  yelping_since           327979 non-null  object \n",
      " 12  submitted_reviews       327979 non-null  float64\n",
      " 13  name                    327979 non-null  object \n",
      " 14  address                 324081 non-null  object \n",
      " 15  city                    327979 non-null  object \n",
      " 16  state                   327979 non-null  object \n",
      " 17  latitude                327934 non-null  object \n",
      " 18  longitude               327979 non-null  float64\n",
      " 19  average_business_stars  327979 non-null  float64\n",
      " 20  recieved_reviews        327979 non-null  float64\n",
      " 21  categories              327948 non-null  object \n",
      " 22  attributes              319604 non-null  object \n",
      " 23  tip_review              20368 non-null   object \n",
      "dtypes: float64(6), int64(4), object(14)\n",
      "memory usage: 60.1+ MB\n"
     ]
    }
   ],
   "source": [
    "test_sample.info()"
   ],
   "metadata": {
    "collapsed": false,
    "ExecuteTime": {
     "end_time": "2024-02-24T00:46:40.369276Z",
     "start_time": "2024-02-24T00:46:40.011302Z"
    }
   },
   "id": "c54b47a9e2c2d257"
  }
 ],
 "metadata": {
  "kernelspec": {
   "display_name": "Python 3",
   "language": "python",
   "name": "python3"
  },
  "language_info": {
   "codemirror_mode": {
    "name": "ipython",
    "version": 2
   },
   "file_extension": ".py",
   "mimetype": "text/x-python",
   "name": "python",
   "nbconvert_exporter": "python",
   "pygments_lexer": "ipython2",
   "version": "2.7.6"
  }
 },
 "nbformat": 4,
 "nbformat_minor": 5
}
