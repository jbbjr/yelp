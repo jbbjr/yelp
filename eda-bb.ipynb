{
 "cells": [
  {
   "cell_type": "code",
   "execution_count": 6,
   "id": "initial_id",
   "metadata": {
    "collapsed": true,
    "ExecuteTime": {
     "end_time": "2024-02-25T22:21:34.700679Z",
     "start_time": "2024-02-25T22:21:28.454480Z"
    }
   },
   "outputs": [],
   "source": [
    "import pandas as pd\n",
    "\n",
    "test_sample = pd.read_csv('under-sample.csv')"
   ]
  },
  {
   "cell_type": "code",
   "execution_count": 7,
   "id": "15c69631485bf936",
   "metadata": {
    "collapsed": false,
    "ExecuteTime": {
     "end_time": "2024-02-25T22:21:34.721127Z",
     "start_time": "2024-02-25T22:21:34.709189Z"
    }
   },
   "outputs": [
    {
     "data": {
      "text/plain": "   Unnamed: 0             business_id                 user_id  \\\n0           0  ZeJjnl4o5sffMxPTt7h6ug  CNPZ2ZjDu-lNPKi6f5wEIA   \n1           1  Ccs-77XZCWf1aOozv6U-Ww  nJVAtTBB-25RiomzBB8bHw   \n2           2  FHdgpBT2Br7BL-V3gglIkA  zZOjl_mlBoqJN22dD5nbpQ   \n3           3  FHdgpBT2Br7BL-V3gglIkA  DWO5d7GJWB2Mmuv67yY_fQ   \n4           4  FHdgpBT2Br7BL-V3gglIkA  fJrZ-1B0ngdgM_2qQY_6BA   \n\n                                                text  cool  stars  \\\n0  I tried to give this company the benefit of th...     0    1.0   \n1  We ended up here through serendipity... White ...     0    5.0   \n2  Bouncers were actively enforcing CDC/ social d...     0    5.0   \n3  Its a place that I comfortable but I hate when...     0    2.0   \n4  Great food and great staff! There racks Mack b...     0    5.0   \n\n                        date  funny               review_id  useful  ...  \\\n0  2015-09-09 15:02:48+00:00      0  Zs2sKoUKASUe_WsGpQuE8A       5  ...   \n1  2017-11-18 19:59:59+00:00      0  Eju6FaSp93TC_g06mwwFzA       0  ...   \n2  2020-06-27 04:51:22+00:00      0  ulSlOe8dnv8mjLvLtly8hQ       0  ...   \n3  2016-01-08 22:35:17+00:00      0  dISAAuF9njJb6pT2J1ILuQ       0  ...   \n4  2019-04-12 20:31:51+00:00      0  MlSZu7iI4pbCl7MY0eFXgA       0  ...   \n\n                address  city  state   latitude  longitude  \\\n0      241 Boro Line Rd   kop     PA  40.102683 -75.355972   \n1       209 Vineyard Rd  Atco     NJ  39.738343 -74.886403   \n2  286 White Horse Pike  Atco     NJ  39.772589 -74.900347   \n3  286 White Horse Pike  Atco     NJ  39.772589 -74.900347   \n4  286 White Horse Pike  Atco     NJ  39.772589 -74.900347   \n\n  average_business_stars recieved_reviews  \\\n0                    2.0               70   \n1                    4.5               53   \n2                    3.0               58   \n3                    3.0               58   \n4                    3.0               58   \n\n                                          categories  \\\n0                    Automotive, Auto Repair, Towing   \n1               Food, Arts & Entertainment, Wineries   \n2  American (Traditional), Nightlife, Bars, Sport...   \n3  American (Traditional), Nightlife, Bars, Sport...   \n4  American (Traditional), Nightlife, Bars, Sport...   \n\n                                          attributes  tip_review  \n0            {'BusinessAcceptsCreditCards': 'False'}         NaN  \n1  {'GoodForKids': 'False', 'RestaurantsPriceRang...         NaN  \n2  {'Alcohol': \"u'full_bar'\", 'BusinessAcceptsCre...         NaN  \n3  {'Alcohol': \"u'full_bar'\", 'BusinessAcceptsCre...         NaN  \n4  {'Alcohol': \"u'full_bar'\", 'BusinessAcceptsCre...         NaN  \n\n[5 rows x 24 columns]",
      "text/html": "<div>\n<style scoped>\n    .dataframe tbody tr th:only-of-type {\n        vertical-align: middle;\n    }\n\n    .dataframe tbody tr th {\n        vertical-align: top;\n    }\n\n    .dataframe thead th {\n        text-align: right;\n    }\n</style>\n<table border=\"1\" class=\"dataframe\">\n  <thead>\n    <tr style=\"text-align: right;\">\n      <th></th>\n      <th>Unnamed: 0</th>\n      <th>business_id</th>\n      <th>user_id</th>\n      <th>text</th>\n      <th>cool</th>\n      <th>stars</th>\n      <th>date</th>\n      <th>funny</th>\n      <th>review_id</th>\n      <th>useful</th>\n      <th>...</th>\n      <th>address</th>\n      <th>city</th>\n      <th>state</th>\n      <th>latitude</th>\n      <th>longitude</th>\n      <th>average_business_stars</th>\n      <th>recieved_reviews</th>\n      <th>categories</th>\n      <th>attributes</th>\n      <th>tip_review</th>\n    </tr>\n  </thead>\n  <tbody>\n    <tr>\n      <th>0</th>\n      <td>0</td>\n      <td>ZeJjnl4o5sffMxPTt7h6ug</td>\n      <td>CNPZ2ZjDu-lNPKi6f5wEIA</td>\n      <td>I tried to give this company the benefit of th...</td>\n      <td>0</td>\n      <td>1.0</td>\n      <td>2015-09-09 15:02:48+00:00</td>\n      <td>0</td>\n      <td>Zs2sKoUKASUe_WsGpQuE8A</td>\n      <td>5</td>\n      <td>...</td>\n      <td>241 Boro Line Rd</td>\n      <td>kop</td>\n      <td>PA</td>\n      <td>40.102683</td>\n      <td>-75.355972</td>\n      <td>2.0</td>\n      <td>70</td>\n      <td>Automotive, Auto Repair, Towing</td>\n      <td>{'BusinessAcceptsCreditCards': 'False'}</td>\n      <td>NaN</td>\n    </tr>\n    <tr>\n      <th>1</th>\n      <td>1</td>\n      <td>Ccs-77XZCWf1aOozv6U-Ww</td>\n      <td>nJVAtTBB-25RiomzBB8bHw</td>\n      <td>We ended up here through serendipity... White ...</td>\n      <td>0</td>\n      <td>5.0</td>\n      <td>2017-11-18 19:59:59+00:00</td>\n      <td>0</td>\n      <td>Eju6FaSp93TC_g06mwwFzA</td>\n      <td>0</td>\n      <td>...</td>\n      <td>209 Vineyard Rd</td>\n      <td>Atco</td>\n      <td>NJ</td>\n      <td>39.738343</td>\n      <td>-74.886403</td>\n      <td>4.5</td>\n      <td>53</td>\n      <td>Food, Arts &amp; Entertainment, Wineries</td>\n      <td>{'GoodForKids': 'False', 'RestaurantsPriceRang...</td>\n      <td>NaN</td>\n    </tr>\n    <tr>\n      <th>2</th>\n      <td>2</td>\n      <td>FHdgpBT2Br7BL-V3gglIkA</td>\n      <td>zZOjl_mlBoqJN22dD5nbpQ</td>\n      <td>Bouncers were actively enforcing CDC/ social d...</td>\n      <td>0</td>\n      <td>5.0</td>\n      <td>2020-06-27 04:51:22+00:00</td>\n      <td>0</td>\n      <td>ulSlOe8dnv8mjLvLtly8hQ</td>\n      <td>0</td>\n      <td>...</td>\n      <td>286 White Horse Pike</td>\n      <td>Atco</td>\n      <td>NJ</td>\n      <td>39.772589</td>\n      <td>-74.900347</td>\n      <td>3.0</td>\n      <td>58</td>\n      <td>American (Traditional), Nightlife, Bars, Sport...</td>\n      <td>{'Alcohol': \"u'full_bar'\", 'BusinessAcceptsCre...</td>\n      <td>NaN</td>\n    </tr>\n    <tr>\n      <th>3</th>\n      <td>3</td>\n      <td>FHdgpBT2Br7BL-V3gglIkA</td>\n      <td>DWO5d7GJWB2Mmuv67yY_fQ</td>\n      <td>Its a place that I comfortable but I hate when...</td>\n      <td>0</td>\n      <td>2.0</td>\n      <td>2016-01-08 22:35:17+00:00</td>\n      <td>0</td>\n      <td>dISAAuF9njJb6pT2J1ILuQ</td>\n      <td>0</td>\n      <td>...</td>\n      <td>286 White Horse Pike</td>\n      <td>Atco</td>\n      <td>NJ</td>\n      <td>39.772589</td>\n      <td>-74.900347</td>\n      <td>3.0</td>\n      <td>58</td>\n      <td>American (Traditional), Nightlife, Bars, Sport...</td>\n      <td>{'Alcohol': \"u'full_bar'\", 'BusinessAcceptsCre...</td>\n      <td>NaN</td>\n    </tr>\n    <tr>\n      <th>4</th>\n      <td>4</td>\n      <td>FHdgpBT2Br7BL-V3gglIkA</td>\n      <td>fJrZ-1B0ngdgM_2qQY_6BA</td>\n      <td>Great food and great staff! There racks Mack b...</td>\n      <td>0</td>\n      <td>5.0</td>\n      <td>2019-04-12 20:31:51+00:00</td>\n      <td>0</td>\n      <td>MlSZu7iI4pbCl7MY0eFXgA</td>\n      <td>0</td>\n      <td>...</td>\n      <td>286 White Horse Pike</td>\n      <td>Atco</td>\n      <td>NJ</td>\n      <td>39.772589</td>\n      <td>-74.900347</td>\n      <td>3.0</td>\n      <td>58</td>\n      <td>American (Traditional), Nightlife, Bars, Sport...</td>\n      <td>{'Alcohol': \"u'full_bar'\", 'BusinessAcceptsCre...</td>\n      <td>NaN</td>\n    </tr>\n  </tbody>\n</table>\n<p>5 rows × 24 columns</p>\n</div>"
     },
     "execution_count": 7,
     "metadata": {},
     "output_type": "execute_result"
    }
   ],
   "source": [
    "test_sample.head()"
   ]
  },
  {
   "cell_type": "code",
   "execution_count": 8,
   "id": "c54b47a9e2c2d257",
   "metadata": {
    "collapsed": false,
    "ExecuteTime": {
     "end_time": "2024-02-25T22:21:34.863341Z",
     "start_time": "2024-02-25T22:21:34.718198Z"
    }
   },
   "outputs": [
    {
     "name": "stdout",
     "output_type": "stream",
     "text": [
      "<class 'pandas.core.frame.DataFrame'>\n",
      "RangeIndex: 327662 entries, 0 to 327661\n",
      "Data columns (total 24 columns):\n",
      " #   Column                  Non-Null Count   Dtype  \n",
      "---  ------                  --------------   -----  \n",
      " 0   Unnamed: 0              327662 non-null  int64  \n",
      " 1   business_id             327662 non-null  object \n",
      " 2   user_id                 327662 non-null  object \n",
      " 3   text                    327662 non-null  object \n",
      " 4   cool                    327662 non-null  int64  \n",
      " 5   stars                   327662 non-null  float64\n",
      " 6   date                    327662 non-null  object \n",
      " 7   funny                   327662 non-null  int64  \n",
      " 8   review_id               327662 non-null  object \n",
      " 9   useful                  327662 non-null  int64  \n",
      " 10  average_user_stars      327661 non-null  float64\n",
      " 11  yelping_since           327661 non-null  object \n",
      " 12  submitted_reviews       327661 non-null  float64\n",
      " 13  name                    327662 non-null  object \n",
      " 14  address                 323650 non-null  object \n",
      " 15  city                    327662 non-null  object \n",
      " 16  state                   327662 non-null  object \n",
      " 17  latitude                327662 non-null  float64\n",
      " 18  longitude               327662 non-null  float64\n",
      " 19  average_business_stars  327662 non-null  float64\n",
      " 20  recieved_reviews        327662 non-null  int64  \n",
      " 21  categories              327633 non-null  object \n",
      " 22  attributes              319061 non-null  object \n",
      " 23  tip_review              20229 non-null   object \n",
      "dtypes: float64(6), int64(5), object(13)\n",
      "memory usage: 60.0+ MB\n"
     ]
    }
   ],
   "source": [
    "test_sample.info()"
   ]
  },
  {
   "cell_type": "code",
   "execution_count": 9,
   "outputs": [
    {
     "data": {
      "text/plain": "         latitude   longitude\n0       40.102683  -75.355972\n1       39.738343  -74.886403\n2       39.772589  -74.900347\n3       39.772589  -74.900347\n4       39.772589  -74.900347\n...           ...         ...\n327657  39.892485  -75.091006\n327658  39.892485  -75.091006\n327659  40.148549  -75.022480\n327660  40.046024  -75.060111\n327661  34.420832 -119.698206\n\n[327662 rows x 2 columns]",
      "text/html": "<div>\n<style scoped>\n    .dataframe tbody tr th:only-of-type {\n        vertical-align: middle;\n    }\n\n    .dataframe tbody tr th {\n        vertical-align: top;\n    }\n\n    .dataframe thead th {\n        text-align: right;\n    }\n</style>\n<table border=\"1\" class=\"dataframe\">\n  <thead>\n    <tr style=\"text-align: right;\">\n      <th></th>\n      <th>latitude</th>\n      <th>longitude</th>\n    </tr>\n  </thead>\n  <tbody>\n    <tr>\n      <th>0</th>\n      <td>40.102683</td>\n      <td>-75.355972</td>\n    </tr>\n    <tr>\n      <th>1</th>\n      <td>39.738343</td>\n      <td>-74.886403</td>\n    </tr>\n    <tr>\n      <th>2</th>\n      <td>39.772589</td>\n      <td>-74.900347</td>\n    </tr>\n    <tr>\n      <th>3</th>\n      <td>39.772589</td>\n      <td>-74.900347</td>\n    </tr>\n    <tr>\n      <th>4</th>\n      <td>39.772589</td>\n      <td>-74.900347</td>\n    </tr>\n    <tr>\n      <th>...</th>\n      <td>...</td>\n      <td>...</td>\n    </tr>\n    <tr>\n      <th>327657</th>\n      <td>39.892485</td>\n      <td>-75.091006</td>\n    </tr>\n    <tr>\n      <th>327658</th>\n      <td>39.892485</td>\n      <td>-75.091006</td>\n    </tr>\n    <tr>\n      <th>327659</th>\n      <td>40.148549</td>\n      <td>-75.022480</td>\n    </tr>\n    <tr>\n      <th>327660</th>\n      <td>40.046024</td>\n      <td>-75.060111</td>\n    </tr>\n    <tr>\n      <th>327661</th>\n      <td>34.420832</td>\n      <td>-119.698206</td>\n    </tr>\n  </tbody>\n</table>\n<p>327662 rows × 2 columns</p>\n</div>"
     },
     "execution_count": 9,
     "metadata": {},
     "output_type": "execute_result"
    }
   ],
   "source": [
    "test_sample[['latitude', 'longitude']]"
   ],
   "metadata": {
    "collapsed": false,
    "ExecuteTime": {
     "end_time": "2024-02-25T22:21:34.870694Z",
     "start_time": "2024-02-25T22:21:34.868155Z"
    }
   },
   "id": "85872cdde4ec6783"
  },
  {
   "cell_type": "code",
   "execution_count": 12,
   "outputs": [
    {
     "ename": "ImportError",
     "evalue": "Matplotlib requires numpy>=1.21; you have 1.20.3",
     "output_type": "error",
     "traceback": [
      "\u001B[0;31m---------------------------------------------------------------------------\u001B[0m",
      "\u001B[0;31mImportError\u001B[0m                               Traceback (most recent call last)",
      "Cell \u001B[0;32mIn[12], line 3\u001B[0m\n\u001B[1;32m      1\u001B[0m \u001B[38;5;28;01mimport\u001B[39;00m \u001B[38;5;21;01mgeopandas\u001B[39;00m \u001B[38;5;28;01mas\u001B[39;00m \u001B[38;5;21;01mgpd\u001B[39;00m\n\u001B[1;32m      2\u001B[0m \u001B[38;5;28;01mfrom\u001B[39;00m \u001B[38;5;21;01mshapely\u001B[39;00m\u001B[38;5;21;01m.\u001B[39;00m\u001B[38;5;21;01mgeometry\u001B[39;00m \u001B[38;5;28;01mimport\u001B[39;00m Point\n\u001B[0;32m----> 3\u001B[0m \u001B[38;5;28;01mimport\u001B[39;00m \u001B[38;5;21;01mmatplotlib\u001B[39;00m\u001B[38;5;21;01m.\u001B[39;00m\u001B[38;5;21;01mpyplot\u001B[39;00m \u001B[38;5;28;01mas\u001B[39;00m \u001B[38;5;21;01mplt\u001B[39;00m\n\u001B[1;32m      5\u001B[0m usa \u001B[38;5;241m=\u001B[39m gpd\u001B[38;5;241m.\u001B[39mread_file(\u001B[38;5;124m'\u001B[39m\u001B[38;5;124mtl_2023_us_state.shx\u001B[39m\u001B[38;5;124m'\u001B[39m)\n\u001B[1;32m      6\u001B[0m geometry \u001B[38;5;241m=\u001B[39m [Point(lon, lat) \u001B[38;5;28;01mfor\u001B[39;00m lon, lat \u001B[38;5;129;01min\u001B[39;00m \u001B[38;5;28mzip\u001B[39m(test_sample[\u001B[38;5;124m'\u001B[39m\u001B[38;5;124mlongitude\u001B[39m\u001B[38;5;124m'\u001B[39m], test_sample[\u001B[38;5;124m'\u001B[39m\u001B[38;5;124mlatitude\u001B[39m\u001B[38;5;124m'\u001B[39m])]\n",
      "File \u001B[0;32m~/opt/anaconda3/lib/python3.9/site-packages/matplotlib/__init__.py:259\u001B[0m\n\u001B[1;32m    254\u001B[0m         \u001B[38;5;28;01mif\u001B[39;00m parse_version(module\u001B[38;5;241m.\u001B[39m__version__) \u001B[38;5;241m<\u001B[39m parse_version(minver):\n\u001B[1;32m    255\u001B[0m             \u001B[38;5;28;01mraise\u001B[39;00m \u001B[38;5;167;01mImportError\u001B[39;00m(\u001B[38;5;124mf\u001B[39m\u001B[38;5;124m\"\u001B[39m\u001B[38;5;124mMatplotlib requires \u001B[39m\u001B[38;5;132;01m{\u001B[39;00mmodname\u001B[38;5;132;01m}\u001B[39;00m\u001B[38;5;124m>=\u001B[39m\u001B[38;5;132;01m{\u001B[39;00mminver\u001B[38;5;132;01m}\u001B[39;00m\u001B[38;5;124m; \u001B[39m\u001B[38;5;124m\"\u001B[39m\n\u001B[1;32m    256\u001B[0m                               \u001B[38;5;124mf\u001B[39m\u001B[38;5;124m\"\u001B[39m\u001B[38;5;124myou have \u001B[39m\u001B[38;5;132;01m{\u001B[39;00mmodule\u001B[38;5;241m.\u001B[39m__version__\u001B[38;5;132;01m}\u001B[39;00m\u001B[38;5;124m\"\u001B[39m)\n\u001B[0;32m--> 259\u001B[0m \u001B[43m_check_versions\u001B[49m\u001B[43m(\u001B[49m\u001B[43m)\u001B[49m\n\u001B[1;32m    262\u001B[0m \u001B[38;5;66;03m# The decorator ensures this always returns the same handler (and it is only\u001B[39;00m\n\u001B[1;32m    263\u001B[0m \u001B[38;5;66;03m# attached once).\u001B[39;00m\n\u001B[1;32m    264\u001B[0m \u001B[38;5;129m@functools\u001B[39m\u001B[38;5;241m.\u001B[39mcache\n\u001B[1;32m    265\u001B[0m \u001B[38;5;28;01mdef\u001B[39;00m \u001B[38;5;21m_ensure_handler\u001B[39m():\n",
      "File \u001B[0;32m~/opt/anaconda3/lib/python3.9/site-packages/matplotlib/__init__.py:255\u001B[0m, in \u001B[0;36m_check_versions\u001B[0;34m()\u001B[0m\n\u001B[1;32m    253\u001B[0m module \u001B[38;5;241m=\u001B[39m importlib\u001B[38;5;241m.\u001B[39mimport_module(modname)\n\u001B[1;32m    254\u001B[0m \u001B[38;5;28;01mif\u001B[39;00m parse_version(module\u001B[38;5;241m.\u001B[39m__version__) \u001B[38;5;241m<\u001B[39m parse_version(minver):\n\u001B[0;32m--> 255\u001B[0m     \u001B[38;5;28;01mraise\u001B[39;00m \u001B[38;5;167;01mImportError\u001B[39;00m(\u001B[38;5;124mf\u001B[39m\u001B[38;5;124m\"\u001B[39m\u001B[38;5;124mMatplotlib requires \u001B[39m\u001B[38;5;132;01m{\u001B[39;00mmodname\u001B[38;5;132;01m}\u001B[39;00m\u001B[38;5;124m>=\u001B[39m\u001B[38;5;132;01m{\u001B[39;00mminver\u001B[38;5;132;01m}\u001B[39;00m\u001B[38;5;124m; \u001B[39m\u001B[38;5;124m\"\u001B[39m\n\u001B[1;32m    256\u001B[0m                       \u001B[38;5;124mf\u001B[39m\u001B[38;5;124m\"\u001B[39m\u001B[38;5;124myou have \u001B[39m\u001B[38;5;132;01m{\u001B[39;00mmodule\u001B[38;5;241m.\u001B[39m__version__\u001B[38;5;132;01m}\u001B[39;00m\u001B[38;5;124m\"\u001B[39m)\n",
      "\u001B[0;31mImportError\u001B[0m: Matplotlib requires numpy>=1.21; you have 1.20.3"
     ]
    }
   ],
   "source": [
    "import geopandas as gpd\n",
    "from shapely.geometry import Point\n",
    "import matplotlib.pyplot as plt\n",
    "\n",
    "usa = gpd.read_file('tl_2023_us_state.shx')\n",
    "geometry = [Point(lon, lat) for lon, lat in zip(test_sample['longitude'], test_sample['latitude'])]\n",
    "gdf = gpd.GeoDataFrame(test_sample, geometry=geometry, crs='EPSG:4326')\n",
    "\n",
    "ax = usa.plot(figsize=(10, 10), color='lightgray', edgecolor='black')\n",
    "gdf.plot(ax=ax, color='red', markersize=5)\n",
    "\n",
    "ax.set_title('Latitude and Longitude Data on USA Map')\n",
    "ax.set_xlabel('Longitude')\n",
    "ax.set_ylabel('Latitude')\n",
    "ax.set_xlim([-130, -65])\n",
    "ax.set_ylim([24, 50])  \n",
    "plt.show()"
   ],
   "metadata": {
    "collapsed": false,
    "ExecuteTime": {
     "end_time": "2024-02-25T22:23:46.058930Z",
     "start_time": "2024-02-25T22:23:45.961062Z"
    }
   },
   "id": "d5534c7094a6205a"
  },
  {
   "cell_type": "code",
   "execution_count": 13,
   "outputs": [
    {
     "name": "stdout",
     "output_type": "stream",
     "text": [
      "<class 'pandas.core.frame.DataFrame'>\n",
      "RangeIndex: 327662 entries, 0 to 327661\n",
      "Data columns (total 24 columns):\n",
      " #   Column                  Non-Null Count   Dtype  \n",
      "---  ------                  --------------   -----  \n",
      " 0   Unnamed: 0              327662 non-null  int64  \n",
      " 1   business_id             327662 non-null  object \n",
      " 2   user_id                 327662 non-null  object \n",
      " 3   text                    327662 non-null  object \n",
      " 4   cool                    327662 non-null  int64  \n",
      " 5   stars                   327662 non-null  float64\n",
      " 6   date                    327662 non-null  object \n",
      " 7   funny                   327662 non-null  int64  \n",
      " 8   review_id               327662 non-null  object \n",
      " 9   useful                  327662 non-null  int64  \n",
      " 10  average_user_stars      327661 non-null  float64\n",
      " 11  yelping_since           327661 non-null  object \n",
      " 12  submitted_reviews       327661 non-null  float64\n",
      " 13  name                    327662 non-null  object \n",
      " 14  address                 323650 non-null  object \n",
      " 15  city                    327662 non-null  object \n",
      " 16  state                   327662 non-null  object \n",
      " 17  latitude                327662 non-null  float64\n",
      " 18  longitude               327662 non-null  float64\n",
      " 19  average_business_stars  327662 non-null  float64\n",
      " 20  recieved_reviews        327662 non-null  int64  \n",
      " 21  categories              327633 non-null  object \n",
      " 22  attributes              319061 non-null  object \n",
      " 23  tip_review              20229 non-null   object \n",
      "dtypes: float64(6), int64(5), object(13)\n",
      "memory usage: 60.0+ MB\n"
     ]
    }
   ],
   "source": [
    "test_sample.info()"
   ],
   "metadata": {
    "collapsed": false,
    "ExecuteTime": {
     "end_time": "2024-02-25T22:24:38.376807Z",
     "start_time": "2024-02-25T22:24:38.230662Z"
    }
   },
   "id": "d6f1dd2b8d411682"
  },
  {
   "cell_type": "code",
   "execution_count": 15,
   "outputs": [
    {
     "data": {
      "text/plain": "19"
     },
     "execution_count": 15,
     "metadata": {},
     "output_type": "execute_result"
    }
   ],
   "source": [
    "sns.scatterplot(data=)"
   ],
   "metadata": {
    "collapsed": false,
    "ExecuteTime": {
     "end_time": "2024-02-25T22:24:49.209707Z",
     "start_time": "2024-02-25T22:24:49.203762Z"
    }
   },
   "id": "5d19d56db0d16522"
  },
  {
   "cell_type": "code",
   "execution_count": null,
   "outputs": [],
   "source": [],
   "metadata": {
    "collapsed": false
   },
   "id": "4bbbad79317f7cc7"
  }
 ],
 "metadata": {
  "kernelspec": {
   "display_name": "Python 3",
   "language": "python",
   "name": "python3"
  },
  "language_info": {
   "codemirror_mode": {
    "name": "ipython",
    "version": 3
   },
   "file_extension": ".py",
   "mimetype": "text/x-python",
   "name": "python",
   "nbconvert_exporter": "python",
   "pygments_lexer": "ipython3",
   "version": "3.9.6"
  }
 },
 "nbformat": 4,
 "nbformat_minor": 5
}
