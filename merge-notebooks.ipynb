{
 "cells": [
  {
   "cell_type": "code",
   "execution_count": 1,
   "outputs": [
    {
     "name": "stdout",
     "output_type": "stream",
     "text": [
      "Requirement already satisfied: nbmerge in /Users/bennett/opt/anaconda3/lib/python3.9/site-packages (0.0.4)\r\n"
     ]
    }
   ],
   "source": [
    "!pip install nbmerge"
   ],
   "metadata": {
    "collapsed": false,
    "ExecuteTime": {
     "end_time": "2024-03-03T23:50:41.468304Z",
     "start_time": "2024-03-03T23:50:39.979043Z"
    }
   },
   "id": "f9ff1c7fc6d9a54"
  },
  {
   "cell_type": "code",
   "execution_count": 2,
   "id": "initial_id",
   "metadata": {
    "collapsed": true,
    "ExecuteTime": {
     "end_time": "2024-03-03T23:50:55.568825Z",
     "start_time": "2024-03-03T23:50:51.829572Z"
    }
   },
   "outputs": [
    {
     "name": "stdout",
     "output_type": "stream",
     "text": [
      "/Users/bennett/opt/anaconda3/lib/python3.9/site-packages/nbformat/__init__.py:128: MissingIDFieldWarning: Code cell is missing an id field, this will become a hard error in future nbformat versions. You may want to use `normalize()` on your notebooks before validations (available since nbformat 5.1.4). Previous versions of nbformat are fixing this issue transparently, and will stop doing so in the future.\r\n",
      "  validate(nb)\r\n",
      "/Users/bennett/opt/anaconda3/lib/python3.9/site-packages/nbformat/__init__.py:128: DuplicateCellId: Non-unique cell id 'initial_id' detected. Corrected to 'f9466ed6'.\r\n",
      "  validate(nb)\r\n",
      "/Users/bennett/opt/anaconda3/lib/python3.9/site-packages/nbformat/__init__.py:128: DuplicateCellId: Non-unique cell id 'initial_id' detected. Corrected to '7fe46221'.\r\n",
      "  validate(nb)\r\n"
     ]
    }
   ],
   "source": [
    "!nbmerge deliverable-2.ipynb preprocessing_tokenization-JS.ipynb sentiment-analysis.ipynb tsne-embedding-cluster.ipynb Supervised_ML_JS.ipynb > final-deliverable.ipynb"
   ]
  },
  {
   "cell_type": "code",
   "execution_count": null,
   "outputs": [],
   "source": [],
   "metadata": {
    "collapsed": false
   },
   "id": "5db6c13cda854d54"
  }
 ],
 "metadata": {
  "kernelspec": {
   "display_name": "Python 3",
   "language": "python",
   "name": "python3"
  },
  "language_info": {
   "codemirror_mode": {
    "name": "ipython",
    "version": 2
   },
   "file_extension": ".py",
   "mimetype": "text/x-python",
   "name": "python",
   "nbconvert_exporter": "python",
   "pygments_lexer": "ipython2",
   "version": "2.7.6"
  }
 },
 "nbformat": 4,
 "nbformat_minor": 5
}
